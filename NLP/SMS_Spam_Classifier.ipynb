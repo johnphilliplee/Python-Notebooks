{
  "nbformat": 4,
  "nbformat_minor": 0,
  "metadata": {
    "accelerator": "GPU",
    "colab": {
      "name": "SMS Spam Classifier.ipynb",
      "provenance": [],
      "collapsed_sections": []
    },
    "kernelspec": {
      "display_name": "Python 3",
      "name": "python3"
    }
  },
  "cells": [
    {
      "cell_type": "markdown",
      "metadata": {
        "colab_type": "text",
        "id": "view-in-github"
      },
      "source": [
        "<a href=\"https://colab.research.google.com/github/lmoroney/dlaicourse/blob/master/TensorFlow%20In%20Practice/Course%203%20-%20NLP/Course%203%20-%20Week%202%20-%20Lesson%202.ipynb\" target=\"_parent\"><img src=\"https://colab.research.google.com/assets/colab-badge.svg\" alt=\"Open In Colab\"/></a>"
      ]
    },
    {
      "cell_type": "code",
      "metadata": {
        "colab_type": "code",
        "id": "XYYDvoskkE61",
        "colab": {}
      },
      "source": [
        "import csv\n",
        "import tensorflow as tf\n",
        "\n",
        "from tensorflow.keras.preprocessing.text import Tokenizer\n",
        "from tensorflow.keras.preprocessing.sequence import pad_sequences"
      ],
      "execution_count": 2,
      "outputs": []
    },
    {
      "cell_type": "code",
      "metadata": {
        "id": "rhZ9H39fT9CF",
        "colab_type": "code",
        "colab": {}
      },
      "source": [
        "path = '/tmp/spam.csv'\n",
        "\n",
        "messages = []\n",
        "labels = []\n",
        "\n",
        "with open(path, encoding='ISO-8859-1') as csv_file:\n",
        "  reader = csv.reader(csv_file)\n",
        "  for row in reader:\n",
        "    messages.append(row[1])\n",
        "    labels.append(0 if row[0] == 'ham' else 1)"
      ],
      "execution_count": 7,
      "outputs": []
    },
    {
      "cell_type": "code",
      "metadata": {
        "id": "e-x4dGcUnWDV",
        "colab_type": "code",
        "colab": {
          "base_uri": "https://localhost:8080/",
          "height": 71
        },
        "outputId": "cb7a4cef-ec02-4ef9-fc21-3537e9dd8151"
      },
      "source": [
        "sample = 3\n",
        "print(labels[sample])\n",
        "print(messages[sample])"
      ],
      "execution_count": 10,
      "outputs": [
        {
          "output_type": "stream",
          "text": [
            "1\n",
            "Free entry in 2 a wkly comp to win FA Cup final tkts 21st May 2005. Text FA to 87121 to receive entry question(std txt rate)T&C's apply 08452810075over18's\n"
          ],
          "name": "stdout"
        }
      ]
    },
    {
      "cell_type": "code",
      "metadata": {
        "id": "7PHe43HwnlI7",
        "colab_type": "code",
        "colab": {
          "base_uri": "https://localhost:8080/",
          "height": 51
        },
        "outputId": "dd89ae94-d25b-493f-e5e2-8646f7632a0c"
      },
      "source": [
        "training_percentage = 0.2\n",
        "training_size = int(len(labels) * training_percentage)\n",
        "\n",
        "print(len(labels))\n",
        "print(training_size)"
      ],
      "execution_count": 12,
      "outputs": [
        {
          "output_type": "stream",
          "text": [
            "5573\n",
            "1114\n"
          ],
          "name": "stdout"
        }
      ]
    },
    {
      "cell_type": "code",
      "metadata": {
        "id": "fd8zUVqYXeoB",
        "colab_type": "code",
        "colab": {}
      },
      "source": [
        "training_messages = messages[0:training_size]\n",
        "training_labels = labels[0:training_size]\n",
        "test_messages = messages[training_size:]\n",
        "test_labels = labels[training_size:]"
      ],
      "execution_count": 37,
      "outputs": []
    },
    {
      "cell_type": "code",
      "metadata": {
        "colab_type": "code",
        "id": "3u8UB0MCkZ5N",
        "colab": {}
      },
      "source": [
        "tokenizer = Tokenizer(num_words=200, oov_token='<oov>')\n",
        "tokenizer.fit_on_texts(training_messages)\n",
        "\n",
        "word_index = tokenizer.word_index\n",
        "\n",
        "training_sequences = tokenizer.texts_to_sequences(training_messages)\n",
        "training_padded = pad_sequences(training_sequences, maxlen=150, padding='post', truncating='post')\n",
        "\n",
        "testing_sequences = tokenizer.texts_to_sequences(test_messages)\n",
        "testing_padded = pad_sequences(testing_sequences, maxlen=150, padding='post', truncating='post')"
      ],
      "execution_count": 44,
      "outputs": []
    },
    {
      "cell_type": "code",
      "metadata": {
        "colab_type": "code",
        "id": "GrAlWBKf99Ya",
        "colab": {}
      },
      "source": [
        "# Need this block to get it to work with TensorFlow 2.x\n",
        "import numpy as np\n",
        "training_padded = np.array(training_padded)\n",
        "training_labels = np.array(training_labels)\n",
        "testing_padded = np.array(testing_padded)\n",
        "testing_labels = np.array(test_labels)"
      ],
      "execution_count": 45,
      "outputs": []
    },
    {
      "cell_type": "code",
      "metadata": {
        "colab_type": "code",
        "id": "FufaT4vlkiDE",
        "colab": {}
      },
      "source": [
        "model = tf.keras.Sequential([\n",
        "    tf.keras.layers.Embedding(200, 100, input_length=150),\n",
        "    tf.keras.layers.GlobalAveragePooling1D(),\n",
        "    tf.keras.layers.Dense(24, activation='relu'),\n",
        "    tf.keras.layers.Dense(1, activation='sigmoid')\n",
        "])\n",
        "model.compile(loss='binary_crossentropy',optimizer='adam',metrics=['accuracy'])"
      ],
      "execution_count": 46,
      "outputs": []
    },
    {
      "cell_type": "code",
      "metadata": {
        "colab_type": "code",
        "id": "XfDt1hmYkiys",
        "colab": {
          "base_uri": "https://localhost:8080/",
          "height": 289
        },
        "outputId": "8ade57b4-fa28-43c9-f49e-db46a644c5d6"
      },
      "source": [
        "model.summary()\n"
      ],
      "execution_count": 47,
      "outputs": [
        {
          "output_type": "stream",
          "text": [
            "Model: \"sequential_3\"\n",
            "_________________________________________________________________\n",
            "Layer (type)                 Output Shape              Param #   \n",
            "=================================================================\n",
            "embedding_3 (Embedding)      (None, 150, 100)          20000     \n",
            "_________________________________________________________________\n",
            "global_average_pooling1d_3 ( (None, 100)               0         \n",
            "_________________________________________________________________\n",
            "dense_6 (Dense)              (None, 24)                2424      \n",
            "_________________________________________________________________\n",
            "dense_7 (Dense)              (None, 1)                 25        \n",
            "=================================================================\n",
            "Total params: 22,449\n",
            "Trainable params: 22,449\n",
            "Non-trainable params: 0\n",
            "_________________________________________________________________\n"
          ],
          "name": "stdout"
        }
      ]
    },
    {
      "cell_type": "code",
      "metadata": {
        "id": "eXOW8ahKqyGJ",
        "colab_type": "code",
        "colab": {
          "base_uri": "https://localhost:8080/",
          "height": 51
        },
        "outputId": "3a17b79f-ccc6-438d-cd46-8454fa7deead"
      },
      "source": [
        "print(len(training_labels))\n",
        "print(len(testing_labels))"
      ],
      "execution_count": 48,
      "outputs": [
        {
          "output_type": "stream",
          "text": [
            "1114\n",
            "4459\n"
          ],
          "name": "stdout"
        }
      ]
    },
    {
      "cell_type": "code",
      "metadata": {
        "colab_type": "code",
        "id": "2DTKQFf1kkyc",
        "colab": {
          "base_uri": "https://localhost:8080/",
          "height": 1000
        },
        "outputId": "965bc146-e151-47a5-9397-08b29817efcc"
      },
      "source": [
        "num_epochs = 50\n",
        "history = model.fit(training_padded, training_labels, epochs=num_epochs, validation_data=(testing_padded, testing_labels), verbose=2)"
      ],
      "execution_count": 51,
      "outputs": [
        {
          "output_type": "stream",
          "text": [
            "Epoch 1/50\n",
            "35/35 - 1s - loss: 0.0688 - accuracy: 0.9820 - val_loss: 0.0909 - val_accuracy: 0.9684\n",
            "Epoch 2/50\n",
            "35/35 - 1s - loss: 0.0667 - accuracy: 0.9829 - val_loss: 0.0920 - val_accuracy: 0.9697\n",
            "Epoch 3/50\n",
            "35/35 - 1s - loss: 0.0663 - accuracy: 0.9829 - val_loss: 0.0937 - val_accuracy: 0.9693\n",
            "Epoch 4/50\n",
            "35/35 - 1s - loss: 0.0645 - accuracy: 0.9829 - val_loss: 0.0887 - val_accuracy: 0.9691\n",
            "Epoch 5/50\n",
            "35/35 - 1s - loss: 0.0610 - accuracy: 0.9847 - val_loss: 0.0889 - val_accuracy: 0.9688\n",
            "Epoch 6/50\n",
            "35/35 - 1s - loss: 0.0611 - accuracy: 0.9856 - val_loss: 0.0904 - val_accuracy: 0.9691\n",
            "Epoch 7/50\n",
            "35/35 - 1s - loss: 0.0609 - accuracy: 0.9856 - val_loss: 0.0880 - val_accuracy: 0.9691\n",
            "Epoch 8/50\n",
            "35/35 - 1s - loss: 0.0572 - accuracy: 0.9865 - val_loss: 0.0882 - val_accuracy: 0.9708\n",
            "Epoch 9/50\n",
            "35/35 - 1s - loss: 0.0575 - accuracy: 0.9856 - val_loss: 0.0878 - val_accuracy: 0.9691\n",
            "Epoch 10/50\n",
            "35/35 - 1s - loss: 0.0553 - accuracy: 0.9856 - val_loss: 0.0910 - val_accuracy: 0.9697\n",
            "Epoch 11/50\n",
            "35/35 - 1s - loss: 0.0574 - accuracy: 0.9847 - val_loss: 0.0879 - val_accuracy: 0.9695\n",
            "Epoch 12/50\n",
            "35/35 - 1s - loss: 0.0542 - accuracy: 0.9865 - val_loss: 0.0879 - val_accuracy: 0.9699\n",
            "Epoch 13/50\n",
            "35/35 - 1s - loss: 0.0516 - accuracy: 0.9865 - val_loss: 0.0904 - val_accuracy: 0.9704\n",
            "Epoch 14/50\n",
            "35/35 - 1s - loss: 0.0518 - accuracy: 0.9865 - val_loss: 0.0905 - val_accuracy: 0.9708\n",
            "Epoch 15/50\n",
            "35/35 - 1s - loss: 0.0509 - accuracy: 0.9865 - val_loss: 0.0886 - val_accuracy: 0.9702\n",
            "Epoch 16/50\n",
            "35/35 - 1s - loss: 0.0493 - accuracy: 0.9874 - val_loss: 0.0885 - val_accuracy: 0.9713\n",
            "Epoch 17/50\n",
            "35/35 - 1s - loss: 0.0509 - accuracy: 0.9865 - val_loss: 0.0895 - val_accuracy: 0.9711\n",
            "Epoch 18/50\n",
            "35/35 - 1s - loss: 0.0489 - accuracy: 0.9874 - val_loss: 0.0887 - val_accuracy: 0.9708\n",
            "Epoch 19/50\n",
            "35/35 - 1s - loss: 0.0490 - accuracy: 0.9874 - val_loss: 0.0897 - val_accuracy: 0.9704\n",
            "Epoch 20/50\n",
            "35/35 - 1s - loss: 0.0479 - accuracy: 0.9874 - val_loss: 0.0892 - val_accuracy: 0.9724\n",
            "Epoch 21/50\n",
            "35/35 - 1s - loss: 0.0466 - accuracy: 0.9883 - val_loss: 0.0897 - val_accuracy: 0.9735\n",
            "Epoch 22/50\n",
            "35/35 - 1s - loss: 0.0462 - accuracy: 0.9874 - val_loss: 0.0898 - val_accuracy: 0.9729\n",
            "Epoch 23/50\n",
            "35/35 - 1s - loss: 0.0448 - accuracy: 0.9883 - val_loss: 0.0903 - val_accuracy: 0.9711\n",
            "Epoch 24/50\n",
            "35/35 - 1s - loss: 0.0443 - accuracy: 0.9883 - val_loss: 0.0910 - val_accuracy: 0.9711\n",
            "Epoch 25/50\n",
            "35/35 - 1s - loss: 0.0451 - accuracy: 0.9865 - val_loss: 0.0953 - val_accuracy: 0.9704\n",
            "Epoch 26/50\n",
            "35/35 - 1s - loss: 0.0436 - accuracy: 0.9883 - val_loss: 0.0915 - val_accuracy: 0.9729\n",
            "Epoch 27/50\n",
            "35/35 - 1s - loss: 0.0417 - accuracy: 0.9874 - val_loss: 0.0954 - val_accuracy: 0.9702\n",
            "Epoch 28/50\n",
            "35/35 - 1s - loss: 0.0411 - accuracy: 0.9883 - val_loss: 0.0965 - val_accuracy: 0.9699\n",
            "Epoch 29/50\n",
            "35/35 - 1s - loss: 0.0437 - accuracy: 0.9883 - val_loss: 0.0930 - val_accuracy: 0.9722\n",
            "Epoch 30/50\n",
            "35/35 - 1s - loss: 0.0411 - accuracy: 0.9883 - val_loss: 0.0933 - val_accuracy: 0.9720\n",
            "Epoch 31/50\n",
            "35/35 - 1s - loss: 0.0403 - accuracy: 0.9883 - val_loss: 0.0947 - val_accuracy: 0.9724\n",
            "Epoch 32/50\n",
            "35/35 - 1s - loss: 0.0406 - accuracy: 0.9883 - val_loss: 0.0958 - val_accuracy: 0.9713\n",
            "Epoch 33/50\n",
            "35/35 - 1s - loss: 0.0428 - accuracy: 0.9883 - val_loss: 0.0941 - val_accuracy: 0.9735\n",
            "Epoch 34/50\n",
            "35/35 - 1s - loss: 0.0399 - accuracy: 0.9883 - val_loss: 0.0959 - val_accuracy: 0.9713\n",
            "Epoch 35/50\n",
            "35/35 - 1s - loss: 0.0398 - accuracy: 0.9874 - val_loss: 0.1038 - val_accuracy: 0.9704\n",
            "Epoch 36/50\n",
            "35/35 - 1s - loss: 0.0379 - accuracy: 0.9892 - val_loss: 0.0955 - val_accuracy: 0.9731\n",
            "Epoch 37/50\n",
            "35/35 - 1s - loss: 0.0361 - accuracy: 0.9883 - val_loss: 0.0956 - val_accuracy: 0.9738\n",
            "Epoch 38/50\n",
            "35/35 - 1s - loss: 0.0348 - accuracy: 0.9892 - val_loss: 0.1038 - val_accuracy: 0.9715\n",
            "Epoch 39/50\n",
            "35/35 - 1s - loss: 0.0348 - accuracy: 0.9892 - val_loss: 0.0977 - val_accuracy: 0.9731\n",
            "Epoch 40/50\n",
            "35/35 - 1s - loss: 0.0335 - accuracy: 0.9901 - val_loss: 0.1068 - val_accuracy: 0.9722\n",
            "Epoch 41/50\n",
            "35/35 - 1s - loss: 0.0355 - accuracy: 0.9910 - val_loss: 0.0995 - val_accuracy: 0.9729\n",
            "Epoch 42/50\n",
            "35/35 - 1s - loss: 0.0304 - accuracy: 0.9910 - val_loss: 0.0995 - val_accuracy: 0.9731\n",
            "Epoch 43/50\n",
            "35/35 - 1s - loss: 0.0314 - accuracy: 0.9928 - val_loss: 0.1011 - val_accuracy: 0.9731\n",
            "Epoch 44/50\n",
            "35/35 - 1s - loss: 0.0313 - accuracy: 0.9919 - val_loss: 0.1014 - val_accuracy: 0.9738\n",
            "Epoch 45/50\n",
            "35/35 - 1s - loss: 0.0307 - accuracy: 0.9901 - val_loss: 0.1038 - val_accuracy: 0.9717\n",
            "Epoch 46/50\n",
            "35/35 - 1s - loss: 0.0299 - accuracy: 0.9910 - val_loss: 0.1058 - val_accuracy: 0.9731\n",
            "Epoch 47/50\n",
            "35/35 - 1s - loss: 0.0291 - accuracy: 0.9919 - val_loss: 0.1041 - val_accuracy: 0.9733\n",
            "Epoch 48/50\n",
            "35/35 - 1s - loss: 0.0287 - accuracy: 0.9928 - val_loss: 0.1058 - val_accuracy: 0.9731\n",
            "Epoch 49/50\n",
            "35/35 - 1s - loss: 0.0295 - accuracy: 0.9919 - val_loss: 0.1057 - val_accuracy: 0.9731\n",
            "Epoch 50/50\n",
            "35/35 - 1s - loss: 0.0288 - accuracy: 0.9928 - val_loss: 0.1073 - val_accuracy: 0.9726\n"
          ],
          "name": "stdout"
        }
      ]
    },
    {
      "cell_type": "code",
      "metadata": {
        "colab_type": "code",
        "id": "2HYfBKXjkmU8",
        "colab": {
          "base_uri": "https://localhost:8080/",
          "height": 542
        },
        "outputId": "d102a90a-5004-4923-ab6e-e07248ee5c04"
      },
      "source": [
        "import matplotlib.pyplot as plt\n",
        "\n",
        "def plot_graphs(history, string):\n",
        "  plt.plot(history.history[string])\n",
        "  plt.plot(history.history['val_'+string])\n",
        "  plt.xlabel(\"Epochs\")\n",
        "  plt.ylabel(string)\n",
        "  plt.legend([string, 'val_'+string])\n",
        "  plt.show()\n",
        "  \n",
        "plot_graphs(history, \"accuracy\")\n",
        "plot_graphs(history, \"loss\")"
      ],
      "execution_count": 52,
      "outputs": [
        {
          "output_type": "display_data",
          "data": {
            "image/png": "[encoded data removed]",
            "text/plain": [
              "<Figure size 432x288 with 1 Axes>"
            ]
          },
          "metadata": {
            "tags": [],
            "needs_background": "light"
          }
        },
        {
          "output_type": "display_data",
          "data": {
            "image/png": "[encoded data removed]",
            "text/plain": [
              "<Figure size 432x288 with 1 Axes>"
            ]
          },
          "metadata": {
            "tags": [],
            "needs_background": "light"
          }
        }
      ]
    },
    {
      "cell_type": "code",
      "metadata": {
        "colab_type": "code",
        "id": "cG8-ArY-qDcz",
        "colab": {
          "base_uri": "https://localhost:8080/",
          "height": 119
        },
        "outputId": "cfff13f2-4507-4cdd-a2ab-b39460351f72"
      },
      "source": [
        "sentence = [\"Hello, how r u?\", \n",
        "            \"IMPORTANT - You could be entitled up to £3,160 in compensation from mis-sold PPI on a credit card or loan. Please reply PPI for info or STOP to opt out.\",\n",
        "            \"Due to a new legislation, those struggling with debt can now apply to have it written off. For more information text the word INFO or to opt out text STOP\",\n",
        "            \"Our records indicate your Pension is under performing to see higher growth and up to 25% cash release reply PENSION for a free review\",\n",
        "            \"DUDE! You've got to see this!\",\n",
        "            \"Hey, it's been a while. I'd love to see you at the party. :)\"]\n",
        "sequences = tokenizer.texts_to_sequences(sentence)\n",
        "padded = pad_sequences(sequences, maxlen=150, padding='post', truncating='post')\n",
        "print(model.predict(padded))"
      ],
      "execution_count": 63,
      "outputs": [
        {
          "output_type": "stream",
          "text": [
            "[[1.3817021e-03]\n",
            " [9.9532521e-01]\n",
            " [9.9802655e-01]\n",
            " [9.8990881e-01]\n",
            " [8.4063096e-04]\n",
            " [3.9597531e-03]]\n"
          ],
          "name": "stdout"
        }
      ]
    }
  ]
}