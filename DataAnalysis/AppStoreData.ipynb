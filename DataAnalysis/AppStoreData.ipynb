{
 "cells": [
  {
   "cell_type": "markdown",
   "metadata": {
    "collapsed": true
   },
   "source": [
    "# Data Analysis: Android and iOS Apps\n",
    "\n",
    "In this project, we will analyze data to understand what type of apps are likely to attract users. This will let parties know where to focus to maximize revenue."
   ]
  },
  {
   "cell_type": "code",
   "execution_count": 1,
   "metadata": {
    "collapsed": true
   },
   "outputs": [],
   "source": [
    "def explore_data(dataset, start, end, rows_and_columns=False):\n",
    "    dataset_slice = dataset[start:end]\n",
    "    for row in dataset_slice:\n",
    "        print(row)\n",
    "        print('\\n')\n",
    "        \n",
    "    if rows_and_columns:\n",
    "        print('Number of rows: ', len(dataset))\n",
    "        print('Number of columns: ', len(dataset[0]))"
   ]
  },
  {
   "cell_type": "code",
   "execution_count": 2,
   "metadata": {
    "collapsed": true
   },
   "outputs": [],
   "source": [
    "apple_ds = open('AppleStore.csv')\n",
    "gplay_ds = open('googleplaystore.csv')\n",
    "\n",
    "from csv import reader\n",
    "apple_apps_data = list(reader(apple_ds))\n",
    "gplay_apps_data = list(reader(gplay_ds))"
   ]
  },
  {
   "cell_type": "code",
   "execution_count": 3,
   "metadata": {
    "collapsed": false
   },
   "outputs": [
    {
     "name": "stdout",
     "output_type": "stream",
     "text": [
      "['284882215', 'Facebook', '389879808', 'USD', '0.0', '2974676', '212', '3.5', '3.5', '95.0', '4+', 'Social Networking', '37', '1', '29', '1']\n",
      "\n",
      "\n",
      "['389801252', 'Instagram', '113954816', 'USD', '0.0', '2161558', '1289', '4.5', '4.0', '10.23', '12+', 'Photo & Video', '37', '0', '29', '1']\n",
      "\n",
      "\n",
      "['529479190', 'Clash of Clans', '116476928', 'USD', '0.0', '2130805', '579', '4.5', '4.5', '9.24.12', '9+', 'Games', '38', '5', '18', '1']\n",
      "\n",
      "\n",
      "['420009108', 'Temple Run', '65921024', 'USD', '0.0', '1724546', '3842', '4.5', '4.0', '1.6.2', '9+', 'Games', '40', '5', '1', '1']\n",
      "\n",
      "\n",
      "Number of rows:  7198\n",
      "Number of columns:  16\n",
      "['Photo Editor & Candy Camera & Grid & ScrapBook', 'ART_AND_DESIGN', '4.1', '159', '19M', '10,000+', 'Free', '0', 'Everyone', 'Art & Design', 'January 7, 2018', '1.0.0', '4.0.3 and up']\n",
      "\n",
      "\n",
      "['Coloring book moana', 'ART_AND_DESIGN', '3.9', '967', '14M', '500,000+', 'Free', '0', 'Everyone', 'Art & Design;Pretend Play', 'January 15, 2018', '2.0.0', '4.0.3 and up']\n",
      "\n",
      "\n",
      "['U Launcher Lite – FREE Live Cool Themes, Hide Apps', 'ART_AND_DESIGN', '4.7', '87510', '8.7M', '5,000,000+', 'Free', '0', 'Everyone', 'Art & Design', 'August 1, 2018', '1.2.4', '4.0.3 and up']\n",
      "\n",
      "\n",
      "['Sketch - Draw & Paint', 'ART_AND_DESIGN', '4.5', '215644', '25M', '50,000,000+', 'Free', '0', 'Teen', 'Art & Design', 'June 8, 2018', 'Varies with device', '4.2 and up']\n",
      "\n",
      "\n",
      "Number of rows:  10842\n",
      "Number of columns:  13\n"
     ]
    }
   ],
   "source": [
    "explore_data(apple_apps_data, 1, 5, True)\n",
    "explore_data(gplay_apps_data, 1, 5, True)"
   ]
  },
  {
   "cell_type": "markdown",
   "metadata": {},
   "source": [
    "## Data Set Columns\n",
    "More info about the datasets:\n",
    "\n",
    "- [App Store](https://www.kaggle.com/ramamet4/app-store-apple-data-set-10k-apps)\n",
    "- [Google Play](https://www.kaggle.com/lava18/google-play-store-apps)"
   ]
  },
  {
   "cell_type": "code",
   "execution_count": 4,
   "metadata": {
    "collapsed": false
   },
   "outputs": [
    {
     "name": "stdout",
     "output_type": "stream",
     "text": [
      "['id', 'track_name', 'size_bytes', 'currency', 'price', 'rating_count_tot', 'rating_count_ver', 'user_rating', 'user_rating_ver', 'ver', 'cont_rating', 'prime_genre', 'sup_devices.num', 'ipadSc_urls.num', 'lang.num', 'vpp_lic']\n",
      "['App', 'Category', 'Rating', 'Reviews', 'Size', 'Installs', 'Type', 'Price', 'Content Rating', 'Genres', 'Last Updated', 'Current Ver', 'Android Ver']\n"
     ]
    }
   ],
   "source": [
    "print(apple_apps_data[0])\n",
    "print(gplay_apps_data[0])"
   ]
  },
  {
   "cell_type": "code",
   "execution_count": 5,
   "metadata": {
    "collapsed": false
   },
   "outputs": [
    {
     "name": "stdout",
     "output_type": "stream",
     "text": [
      "['Life Made WI-Fi Touchscreen Photo Frame', '1.9', '19', '3.0M', '1,000+', 'Free', '0', 'Everyone', '', 'February 11, 2018', '1.0.19', '4.0 and up']\n"
     ]
    }
   ],
   "source": [
    "print(gplay_apps_data[10473])"
   ]
  },
  {
   "cell_type": "markdown",
   "metadata": {},
   "source": [
    "## Clean Data"
   ]
  },
  {
   "cell_type": "markdown",
   "metadata": {},
   "source": [
    "Per [this](https://www.kaggle.com/lava18/google-play-store-apps/discussion/66015) discussion, there is a missing column in the row with index 10473 (with header). We delete it."
   ]
  },
  {
   "cell_type": "code",
   "execution_count": 6,
   "metadata": {
    "collapsed": true
   },
   "outputs": [],
   "source": [
    "del gplay_apps_data[10473]"
   ]
  },
  {
   "cell_type": "markdown",
   "metadata": {},
   "source": [
    "Let's check for duplicates in both datasets"
   ]
  },
  {
   "cell_type": "code",
   "execution_count": 7,
   "metadata": {
    "collapsed": false
   },
   "outputs": [
    {
     "name": "stdout",
     "output_type": "stream",
     "text": [
      "1181\n"
     ]
    }
   ],
   "source": [
    "def duplicates(dataset, dup_basis_index, has_header=True):\n",
    "    unique = []\n",
    "    dup = []\n",
    "\n",
    "    apps_data = dataset[1:] if has_header else dataset\n",
    "    \n",
    "    for app in apps_data:\n",
    "        reference = app[dup_basis_index]\n",
    "        \n",
    "        if reference not in unique:\n",
    "            unique.append(reference)\n",
    "        else:\n",
    "            dup.append(reference)\n",
    "    \n",
    "    return unique, dup\n",
    "\n",
    "gplay_unique, gplay_dup = duplicates(gplay_apps_data, 0)\n",
    "print(len(gplay_dup))"
   ]
  },
  {
   "cell_type": "markdown",
   "metadata": {},
   "source": [
    "Let's deal with Android duplicates first"
   ]
  },
  {
   "cell_type": "code",
   "execution_count": 8,
   "metadata": {
    "collapsed": false
   },
   "outputs": [
    {
     "name": "stdout",
     "output_type": "stream",
     "text": [
      "['Quick PDF Scanner + OCR FREE', 'Box', 'Google My Business', 'ZOOM Cloud Meetings', 'join.me - Simple Meetings', 'Box', 'Zenefits', 'Google Ads', 'Google My Business', 'Slack']\n"
     ]
    }
   ],
   "source": [
    "print(gplay_dup[:10])"
   ]
  },
  {
   "cell_type": "code",
   "execution_count": 9,
   "metadata": {
    "collapsed": false
   },
   "outputs": [
    {
     "name": "stdout",
     "output_type": "stream",
     "text": [
      "['Slack', 'BUSINESS', '4.4', '51507', 'Varies with device', '5,000,000+', 'Free', '0', 'Everyone', 'Business', 'August 2, 2018', 'Varies with device', 'Varies with device']\n",
      "['Slack', 'BUSINESS', '4.4', '51507', 'Varies with device', '5,000,000+', 'Free', '0', 'Everyone', 'Business', 'August 2, 2018', 'Varies with device', 'Varies with device']\n",
      "['Slack', 'BUSINESS', '4.4', '51510', 'Varies with device', '5,000,000+', 'Free', '0', 'Everyone', 'Business', 'August 2, 2018', 'Varies with device', 'Varies with device']\n"
     ]
    }
   ],
   "source": [
    "for app in gplay_apps_data[1:]:\n",
    "    name = app[0]\n",
    "    if name == 'Slack':\n",
    "        print(app)"
   ]
  },
  {
   "cell_type": "markdown",
   "metadata": {},
   "source": [
    "We're not going to remove rows randomly. We're going to retain the one with the highest number of reviews."
   ]
  },
  {
   "cell_type": "code",
   "execution_count": 10,
   "metadata": {
    "collapsed": false
   },
   "outputs": [
    {
     "name": "stdout",
     "output_type": "stream",
     "text": [
      "9659\n"
     ]
    }
   ],
   "source": [
    "reviews_max = {}\n",
    "\n",
    "for app in gplay_apps_data[1:]:\n",
    "    name = app[0]\n",
    "    n_reviews = float(app[3])\n",
    "    \n",
    "    if name in reviews_max and reviews_max[name] < n_reviews:\n",
    "        reviews_max[name] = n_reviews\n",
    "    elif name not in reviews_max:\n",
    "        reviews_max[name] = n_reviews\n",
    "        \n",
    "print(len(reviews_max))"
   ]
  },
  {
   "cell_type": "code",
   "execution_count": 11,
   "metadata": {
    "collapsed": false
   },
   "outputs": [
    {
     "name": "stdout",
     "output_type": "stream",
     "text": [
      "9659\n",
      "['Slack', 'BUSINESS', '4.4', '51510', 'Varies with device', '5,000,000+', 'Free', '0', 'Everyone', 'Business', 'August 2, 2018', 'Varies with device', 'Varies with device']\n"
     ]
    }
   ],
   "source": [
    "android_clean = []\n",
    "already_added = []\n",
    "\n",
    "for app in gplay_apps_data[1:]:\n",
    "    name = app[0]\n",
    "    n_reviews = float(app[3])\n",
    "    \n",
    "    if n_reviews == reviews_max[name] and name not in already_added:\n",
    "        android_clean.append(app)\n",
    "        already_added.append(name)\n",
    "        \n",
    "print(len(android_clean))\n",
    "\n",
    "for app in android_clean:\n",
    "    name = app[0]\n",
    "    if name == 'Slack':\n",
    "        print(app)"
   ]
  },
  {
   "cell_type": "markdown",
   "metadata": {},
   "source": [
    "There are no duplicates in the iOS apps dataset"
   ]
  },
  {
   "cell_type": "code",
   "execution_count": 12,
   "metadata": {
    "collapsed": false
   },
   "outputs": [
    {
     "name": "stdout",
     "output_type": "stream",
     "text": [
      "0\n"
     ]
    }
   ],
   "source": [
    "ios_unique, ios_dup = duplicates(apple_apps_data, 0)\n",
    "\n",
    "print(len(ios_dup))"
   ]
  },
  {
   "cell_type": "code",
   "execution_count": 13,
   "metadata": {
    "collapsed": true
   },
   "outputs": [],
   "source": [
    "ios_clean = apple_apps_data[1:]"
   ]
  },
  {
   "cell_type": "markdown",
   "metadata": {},
   "source": [
    "### Remove non-english apps"
   ]
  },
  {
   "cell_type": "code",
   "execution_count": 14,
   "metadata": {
    "collapsed": false
   },
   "outputs": [
    {
     "name": "stdout",
     "output_type": "stream",
     "text": [
      "True\n",
      "False\n",
      "True\n",
      "True\n"
     ]
    }
   ],
   "source": [
    "def contains_only_english_characters(name):\n",
    "    non_english_count = 0\n",
    "    for character in name:\n",
    "        if ord(character) > 127:\n",
    "            non_english_count += 1   \n",
    "            if non_english_count > 3:\n",
    "                return False\n",
    "    \n",
    "    return True\n",
    "\n",
    "\n",
    "print(contains_only_english_characters('Instagram'))\n",
    "print(contains_only_english_characters('爱奇艺PPS -《欢乐颂2》电视剧热播'))\n",
    "print(contains_only_english_characters('Docs To Go™ Free Office Suite'))\n",
    "print(contains_only_english_characters('Instachat 😜'))"
   ]
  },
  {
   "cell_type": "code",
   "execution_count": 15,
   "metadata": {
    "collapsed": false
   },
   "outputs": [
    {
     "name": "stdout",
     "output_type": "stream",
     "text": [
      "9614\n",
      "6183\n"
     ]
    }
   ],
   "source": [
    "def english_apps(dataset, name_index):\n",
    "    apps = []\n",
    "    for app in dataset:\n",
    "        name = app[name_index]\n",
    "        if contains_only_english_characters(name):\n",
    "            apps.append(app)\n",
    "    return apps\n",
    "\n",
    "android_clean = english_apps(android_clean, 0)\n",
    "ios_clean = english_apps(ios_clean, 1)\n",
    "\n",
    "print(len(android_clean))\n",
    "print(len(ios_clean))"
   ]
  },
  {
   "cell_type": "markdown",
   "metadata": {},
   "source": [
    "### Isolate free apps"
   ]
  },
  {
   "cell_type": "code",
   "execution_count": 16,
   "metadata": {
    "collapsed": false
   },
   "outputs": [
    {
     "name": "stdout",
     "output_type": "stream",
     "text": [
      "8864\n",
      "3222\n"
     ]
    }
   ],
   "source": [
    "def separate_free(dataset, reference_index):\n",
    "    free = []\n",
    "    non_free = []\n",
    "    \n",
    "    for app in dataset:\n",
    "        price = float(app[reference_index].replace('$',''))\n",
    "        if price > 0:\n",
    "            non_free.append(app)\n",
    "        else:\n",
    "            free.append(app)\n",
    "    \n",
    "    return free, non_free\n",
    "\n",
    "android_free, android_paid = separate_free(android_clean, 7)\n",
    "ios_free, ios_paid = separate_free(ios_clean, 4)\n",
    "\n",
    "print(len(android_free))\n",
    "print(len(ios_free))"
   ]
  },
  {
   "cell_type": "markdown",
   "metadata": {},
   "source": [
    "## What's clicking?\n",
    "The strategy we may want to employ is to quickly release an app in the Google Play Store, and then if it becomes profitable, release an iOS version as well. Therefore, we need to find app profiles that are successful in both the iOS and Android platforms.\n",
    "\n",
    "That's what we're going to do in this part of the notebook. We start by building frequency tables.\n",
    "\n",
    "### Build Frequency Tables"
   ]
  },
  {
   "cell_type": "code",
   "execution_count": 17,
   "metadata": {
    "collapsed": false
   },
   "outputs": [
    {
     "name": "stdout",
     "output_type": "stream",
     "text": [
      "ANDROID CATEGORIES\n",
      "\n",
      "FAMILY : 1858\n",
      "GAME : 944\n",
      "TOOLS : 828\n",
      "BUSINESS : 419\n",
      "MEDICAL : 395\n",
      "PERSONALIZATION : 375\n",
      "PRODUCTIVITY : 373\n",
      "LIFESTYLE : 364\n",
      "FINANCE : 345\n",
      "SPORTS : 325\n",
      "COMMUNICATION : 314\n",
      "HEALTH_AND_FITNESS : 288\n",
      "PHOTOGRAPHY : 280\n",
      "NEWS_AND_MAGAZINES : 250\n",
      "SOCIAL : 239\n",
      "TRAVEL_AND_LOCAL : 219\n",
      "BOOKS_AND_REFERENCE : 218\n",
      "SHOPPING : 201\n",
      "DATING : 170\n",
      "VIDEO_PLAYERS : 163\n",
      "MAPS_AND_NAVIGATION : 129\n",
      "FOOD_AND_DRINK : 112\n",
      "EDUCATION : 106\n",
      "ENTERTAINMENT : 87\n",
      "LIBRARIES_AND_DEMO : 84\n",
      "AUTO_AND_VEHICLES : 84\n",
      "WEATHER : 79\n",
      "HOUSE_AND_HOME : 73\n",
      "EVENTS : 64\n",
      "PARENTING : 60\n",
      "ART_AND_DESIGN : 60\n",
      "COMICS : 55\n",
      "BEAUTY : 53\n",
      "\n",
      "ANDROID GENRES\n",
      "\n",
      "Tools : 827\n",
      "Entertainment : 557\n",
      "Education : 503\n",
      "Business : 419\n",
      "Medical : 395\n",
      "Personalization : 375\n",
      "Productivity : 373\n",
      "Lifestyle : 363\n",
      "Finance : 345\n",
      "Sports : 331\n",
      "Communication : 314\n",
      "Action : 299\n",
      "Health & Fitness : 288\n",
      "Photography : 280\n",
      "News & Magazines : 250\n",
      "Social : 239\n",
      "Travel & Local : 218\n",
      "Books & Reference : 218\n",
      "Shopping : 201\n",
      "Simulation : 190\n",
      "Arcade : 184\n",
      "Dating : 170\n",
      "Casual : 165\n",
      "Video Players & Editors : 161\n",
      "Maps & Navigation : 129\n",
      "Puzzle : 119\n",
      "Food & Drink : 112\n",
      "Role Playing : 104\n",
      "Strategy : 94\n",
      "Racing : 91\n",
      "Libraries & Demo : 84\n",
      "Auto & Vehicles : 84\n",
      "Weather : 79\n",
      "House & Home : 73\n",
      "Adventure : 72\n",
      "Events : 64\n",
      "Art & Design : 56\n",
      "Comics : 54\n",
      "Beauty : 53\n",
      "Card : 47\n",
      "Parenting : 46\n",
      "Board : 42\n",
      "Casino : 39\n",
      "Educational;Education : 38\n",
      "Trivia : 37\n",
      "Educational : 37\n",
      "Education;Education : 35\n",
      "Casual;Pretend Play : 25\n",
      "Word : 23\n",
      "Music : 19\n",
      "Puzzle;Brain Games : 17\n",
      "Education;Pretend Play : 17\n",
      "Racing;Action & Adventure : 16\n",
      "Entertainment;Music & Video : 15\n",
      "Board;Brain Games : 14\n",
      "Arcade;Action & Adventure : 14\n",
      "Educational;Pretend Play : 13\n",
      "Casual;Action & Adventure : 13\n",
      "Casual;Brain Games : 12\n",
      "Action;Action & Adventure : 12\n",
      "Simulation;Action & Adventure : 7\n",
      "Parenting;Education : 7\n",
      "Entertainment;Brain Games : 7\n",
      "Parenting;Music & Video : 6\n",
      "Educational;Brain Games : 6\n",
      "Education;Creativity : 6\n",
      "Casual;Creativity : 6\n",
      "Art & Design;Creativity : 6\n",
      "Educational;Creativity : 5\n",
      "Adventure;Action & Adventure : 5\n",
      "Sports;Action & Adventure : 4\n",
      "Role Playing;Pretend Play : 4\n",
      "Role Playing;Action & Adventure : 4\n",
      "Education;Brain Games : 4\n",
      "Education;Action & Adventure : 4\n",
      "Simulation;Pretend Play : 3\n",
      "Simulation;Education : 3\n",
      "Puzzle;Action & Adventure : 3\n",
      "Music;Music & Video : 3\n",
      "Entertainment;Creativity : 3\n",
      "Entertainment;Action & Adventure : 3\n",
      "Educational;Action & Adventure : 3\n",
      "Education;Music & Video : 3\n",
      "Casual;Education : 3\n",
      "Board;Action & Adventure : 3\n",
      "Video Players & Editors;Music & Video : 2\n",
      "Strategy;Action & Adventure : 2\n",
      "Puzzle;Creativity : 2\n",
      "Entertainment;Pretend Play : 2\n",
      "Card;Action & Adventure : 2\n",
      "Books & Reference;Education : 2\n",
      "Video Players & Editors;Creativity : 1\n",
      "Trivia;Education : 1\n",
      "Travel & Local;Action & Adventure : 1\n",
      "Tools;Education : 1\n",
      "Strategy;Education : 1\n",
      "Strategy;Creativity : 1\n",
      "Role Playing;Education : 1\n",
      "Role Playing;Brain Games : 1\n",
      "Racing;Pretend Play : 1\n",
      "Puzzle;Education : 1\n",
      "Parenting;Brain Games : 1\n",
      "Music & Audio;Music & Video : 1\n",
      "Lifestyle;Pretend Play : 1\n",
      "Lifestyle;Education : 1\n",
      "Health & Fitness;Education : 1\n",
      "Health & Fitness;Action & Adventure : 1\n",
      "Entertainment;Education : 1\n",
      "Communication;Creativity : 1\n",
      "Comics;Creativity : 1\n",
      "Casual;Music & Video : 1\n",
      "Books & Reference;Creativity : 1\n",
      "Board;Pretend Play : 1\n",
      "Art & Design;Pretend Play : 1\n",
      "Art & Design;Action & Adventure : 1\n",
      "Arcade;Pretend Play : 1\n",
      "Adventure;Education : 1\n",
      "Adventure;Brain Games : 1\n",
      "\n",
      "IOS PRIME GENRE\n",
      "\n",
      "Games : 3392\n",
      "Entertainment : 449\n",
      "Education : 410\n",
      "Photo & Video : 341\n",
      "Utilities : 213\n",
      "Productivity : 168\n",
      "Health & Fitness : 165\n",
      "Music : 137\n",
      "Social Networking : 126\n",
      "Sports : 104\n",
      "Lifestyle : 99\n",
      "Shopping : 85\n",
      "Weather : 69\n",
      "Travel : 60\n",
      "News : 57\n",
      "Book : 55\n",
      "Reference : 53\n",
      "Business : 53\n",
      "Finance : 49\n",
      "Food & Drink : 44\n",
      "Navigation : 28\n",
      "Medical : 21\n",
      "Catalogs : 5\n"
     ]
    }
   ],
   "source": [
    "def freq_table(dataset, index):\n",
    "    table = {}\n",
    "    \n",
    "    for app in dataset:\n",
    "        val = app[index]\n",
    "        if val in table:\n",
    "            table[val] += 1\n",
    "        else:\n",
    "            table[val] = 1\n",
    "            \n",
    "    return table\n",
    "\n",
    "def display_table(dataset, index):\n",
    "    table = freq_table(dataset, index)\n",
    "    table_display = []\n",
    "    for key in table:\n",
    "        key_val_as_tuple = (table[key], key)\n",
    "        table_display.append(key_val_as_tuple)\n",
    "\n",
    "    table_sorted = sorted(table_display, reverse = True)\n",
    "    for entry in table_sorted:\n",
    "        print(entry[1], ':', entry[0])\n",
    "\n",
    "print(\"ANDROID CATEGORIES\")\n",
    "print()\n",
    "display_table(android_clean, 1)\n",
    "print()\n",
    "print(\"ANDROID GENRES\")\n",
    "print()\n",
    "display_table(android_clean, 9)\n",
    "print()\n",
    "print(\"IOS PRIME GENRE\")\n",
    "print()\n",
    "display_table(ios_clean, 11)"
   ]
  },
  {
   "cell_type": "markdown",
   "metadata": {},
   "source": [
    "## Analysis\n",
    "These apply to english-language apps only"
   ]
  },
  {
   "cell_type": "markdown",
   "metadata": {},
   "source": [
    "### iOS\n",
    "Far and away the most number of free apps in the Apple App Store are games. Next to it is Entertainment. \n",
    "\n",
    "It would seem that for an app to have a chance at success, practical purposes like News, Weather, Navigation and Travel should take a back seat in favor of apps that are meant to entertain.\n",
    "\n",
    "But we should take note that this only shows the *number* of apps in the data, it doesn't show the number of users.\n",
    "\n",
    "Although we can theorize that many apps of a type in the app store mean a lot of users, we still need to verify that with data."
   ]
  },
  {
   "cell_type": "markdown",
   "metadata": {},
   "source": [
    "### Android\n",
    "The Categories and Genres data in the Android dataset shows some differences from what we saw in its iOS counterpart. Here we see that although the most common Category and Genre are Family and Tools, respectively, the numbers show that the app categories are a bit more balanced."
   ]
  },
  {
   "cell_type": "markdown",
   "metadata": {},
   "source": [
    "## Average users per genre"
   ]
  },
  {
   "cell_type": "code",
   "execution_count": 18,
   "metadata": {
    "collapsed": false
   },
   "outputs": [],
   "source": [
    "ios_prime_genre = freq_table(ios_clean, 11)\n",
    "\n",
    "rating_counts = {}\n",
    "\n",
    "for genre in ios_prime_genre:\n",
    "    total = 0\n",
    "    len_genre = 0\n",
    "    \n",
    "    for app in ios_clean:\n",
    "        genre_app = app[11]\n",
    "        if genre == genre_app:\n",
    "            rating_count = float(app[5])\n",
    "            total += rating_count\n",
    "            len_genre += 1\n",
    "    \n",
    "    avg_ratings_count = total / len_genre\n",
    "    rating_counts[genre] = avg_ratings_count"
   ]
  },
  {
   "cell_type": "code",
   "execution_count": 19,
   "metadata": {
    "collapsed": false,
    "scrolled": true
   },
   "outputs": [
    {
     "name": "stdout",
     "output_type": "stream",
     "text": [
      "Social Networking : 60253.84920634921\n",
      "Music : 29047.109489051094\n",
      "Reference : 27037.188679245282\n",
      "Shopping : 26635.011764705883\n",
      "Finance : 23353.530612244896\n",
      "Weather : 23145.246376811596\n",
      "Food & Drink : 19934.386363636364\n",
      "Navigation : 19370.821428571428\n",
      "Travel : 19030.183333333334\n",
      "News : 16980.315789473683\n",
      "Games : 15586.759433962265\n",
      "Sports : 15350.913461538461\n",
      "Photo & Video : 14688.715542521993\n",
      "Health & Fitness : 10802.157575757576\n",
      "Book : 10359.2\n",
      "Lifestyle : 8930.373737373737\n",
      "Entertainment : 8862.409799554565\n",
      "Productivity : 8508.089285714286\n",
      "Utilities : 7927.525821596244\n",
      "Business : 5149.320754716981\n",
      "Catalogs : 3465.0\n",
      "Education : 2472.278048780488\n",
      "Medical : 648.952380952381\n"
     ]
    }
   ],
   "source": [
    "table = rating_counts\n",
    "table_display = []\n",
    "for key in table:\n",
    "    key_val_as_tuple = (table[key], key)\n",
    "    table_display.append(key_val_as_tuple)\n",
    "\n",
    "table_sorted = sorted(table_display, reverse = True)\n",
    "for entry in table_sorted:\n",
    "    print(entry[1], ':', entry[0])"
   ]
  },
  {
   "cell_type": "code",
   "execution_count": 20,
   "metadata": {
    "collapsed": false
   },
   "outputs": [
    {
     "name": "stdout",
     "output_type": "stream",
     "text": [
      "Facebook : 2974676\n",
      "Pinterest : 1061624\n",
      "Skype for iPhone : 373519\n",
      "Messenger : 351466\n",
      "Tumblr : 334293\n",
      "WhatsApp Messenger : 287589\n",
      "Kik : 260965\n",
      "ooVoo – Free Video Call, Text and Voice : 177501\n",
      "TextNow - Unlimited Text + Calls : 164963\n",
      "Viber Messenger – Text & Call : 164249\n",
      "Followers - Social Analytics For Instagram : 112778\n",
      "MeetMe - Chat and Meet New People : 97072\n",
      "We Heart It - Fashion, wallpapers, quotes, tattoos : 90414\n",
      "InsTrack for Instagram - Analytics Plus More : 85535\n",
      "Tango - Free Video Call, Voice and Chat : 75412\n",
      "LinkedIn : 71856\n",
      "Match™ - #1 Dating App. : 60659\n",
      "Skype for iPad : 60163\n",
      "POF - Best Dating App for Conversations : 52642\n",
      "Timehop : 49510\n",
      "Find My Family, Friends & iPhone - Life360 Locator : 43877\n",
      "Whisper - Share, Express, Meet : 39819\n",
      "Hangouts : 36404\n",
      "LINE PLAY - Your Avatar World : 34677\n",
      "WeChat : 34584\n",
      "Badoo - Meet New People, Chat, Socialize. : 34428\n",
      "Followers + for Instagram - Follower Analytics : 28633\n",
      "GroupMe : 28260\n",
      "Marco Polo Video Walkie Talkie : 27662\n",
      "Miitomo : 23965\n",
      "SimSimi : 23530\n",
      "Grindr - Gay and same sex guys chat, meet and date : 23201\n",
      "Wishbone - Compare Anything : 20649\n",
      "imo video calls and chat : 18841\n",
      "After School - Funny Anonymous School News : 18482\n",
      "Quick Reposter - Repost, Regram and Reshare Photos : 17694\n",
      "Weibo HD : 16772\n",
      "Repost for Instagram : 15185\n",
      "Live.me – Live Video Chat & Make Friends Nearby : 14724\n",
      "Nextdoor : 14402\n",
      "Followers Analytics for Instagram - InstaReport : 13914\n",
      "YouNow: Live Stream Video Chat : 12079\n",
      "FollowMeter for Instagram - Followers Tracking : 11976\n",
      "LINE : 11437\n",
      "eHarmony™ Dating App - Meet Singles : 11124\n",
      "Discord - Chat for Gamers : 9152\n",
      "QQ : 9109\n",
      "Telegram Messenger : 7573\n",
      "Weibo : 7265\n",
      "Periscope - Live Video Streaming Around the World : 6062\n",
      "Chat for Whatsapp - iPad Version : 5060\n",
      "QQ HD : 5058\n",
      "Followers Analysis Tool For Instagram App Free : 4253\n",
      "live.ly - live video streaming : 4145\n",
      "Houseparty - Group Video Chat : 3991\n",
      "SOMA Messenger : 3232\n",
      "Monkey : 3060\n",
      "Down To Lunch : 2535\n",
      "Badoo Premium - Meet new people. Extra features. : 2231\n",
      "Tweetbot 4 for Twitter : 2213\n",
      "Flinch - Video Chat Staring Contest : 2134\n",
      "Highrise - Your Avatar Community : 2011\n",
      "LOVOO - Dating Chat : 1985\n",
      "PlayStation®Messages : 1918\n",
      "BOO! - Video chat camera with filters & stickers : 1805\n",
      "Qzone : 1649\n",
      "Chatous - Chat with new people : 1609\n",
      "Kiwi - Q&A : 1538\n",
      "GhostCodes - a discovery app for Snapchat : 1313\n",
      "Jodel : 1193\n",
      "FireChat : 1037\n",
      "Google Duo - simple video calling : 1033\n",
      "Fiesta by Tango - Chat & Meet New People : 885\n",
      "Google Allo — smart messaging : 862\n",
      "Repost It! for Instagram Pro - Video Photo Whiz : 745\n",
      "Peach — share vividly : 727\n",
      "Hey! VINA - Where Women Meet New Friends : 719\n",
      "TeamSpeak 3 : 697\n",
      "Battlefield™ Companion : 689\n",
      "All Devices for WhatsApp - Messenger for iPad : 682\n",
      "Chat for Pokemon Go - GoChat : 500\n",
      "Followers + EA - Analytics for Instagram : 482\n",
      "IAmNaughty – Dating App to Meet New People Online : 463\n",
      "Qzone HD : 458\n",
      "Zenly - Locate your friends in realtime : 427\n",
      "League of Legends Friends : 420\n",
      "Remove Caption for Snapchat* Screenshots : 418\n",
      "豆瓣 : 407\n",
      "Candid - Speak Your Mind Freely : 398\n",
      "知乎 : 397\n",
      "Selfeo : 366\n",
      "Fake-A-Location Free ™ : 354\n",
      "Popcorn Buzz - Free Group Calls : 281\n",
      "Fam — Group video calling for iMessage : 279\n",
      "QQ International : 274\n",
      "Ameba : 269\n",
      "SoundCloud Pulse: for creators : 240\n",
      "Tantan : 235\n",
      "Cougar Dating & Life Style App for Mature Women : 213\n",
      "Threema : 196\n",
      "Rawr Messenger - Dab your chat : 180\n",
      "WhenToPost: Best Time to Post Photos for Instagram : 158\n",
      "ChatMate for WhatsApp : 148\n",
      "Inke—Broadcast an amazing life : 147\n",
      "Not Karlton Banks Emojis by Eboticons : 121\n",
      "Who Deleted Me? for Facebook : 118\n",
      "Fake Location : 117\n",
      "InsSave - Download & Save Photos & Videos From Instagram With Ease! : 107\n",
      "WeicoPro 4 : 106\n",
      "InsPad - Instagram for iPad : 64\n",
      "Littlebook - for Facebook on Watch : 62\n",
      "Mustknow - anonymous video Q&A : 53\n",
      "CTFxCmoji : 39\n",
      "Lobi : 36\n",
      "Chain: Collaborate On MyVideo Story/Group Video : 35\n",
      "feather for Twitter : 22\n",
      "Demi Lovato Stickers : 12\n",
      "botman - Real time video chat : 7\n",
      "Todrick : 1\n",
      "BestieBox : 0\n",
      "Love Msg : 0\n",
      "MATCH ON LINE chat : 0\n",
      "niconico ch : 0\n",
      "Bowitter for iPhone : 0\n",
      "LINE BLOG : 0\n",
      "bit-tube - Live Stream Video Chat : 0\n"
     ]
    }
   ],
   "source": [
    "for app in ios_clean:\n",
    "    if app[-5] == 'Social Networking':\n",
    "        print(app[1], ':', app[5]) # print name and number of ratings"
   ]
  },
  {
   "cell_type": "markdown",
   "metadata": {},
   "source": [
    "## iOS Notes\n",
    "We shouldn't blindly make recommendations based on the above data because the numbers might be inflated by giants(Facebook, Spotify, etc). And therefore the genre might not be as popular as the raw numbers suggest.\n",
    "\n",
    "We could suggest a Reference-type app with game elements?"
   ]
  },
  {
   "cell_type": "code",
   "execution_count": 21,
   "metadata": {
    "collapsed": false
   },
   "outputs": [
    {
     "name": "stdout",
     "output_type": "stream",
     "text": [
      "1,000,000+ : 1414\n",
      "100,000+ : 1106\n",
      "10,000+ : 1021\n",
      "10,000,000+ : 937\n",
      "1,000+ : 880\n",
      "100+ : 704\n",
      "5,000,000+ : 605\n",
      "500,000+ : 504\n",
      "5,000+ : 465\n",
      "50,000+ : 463\n",
      "10+ : 384\n",
      "500+ : 328\n",
      "50,000,000+ : 204\n",
      "50+ : 204\n",
      "100,000,000+ : 189\n",
      "5+ : 82\n",
      "1+ : 66\n",
      "500,000,000+ : 24\n",
      "1,000,000,000+ : 20\n",
      "0+ : 13\n",
      "0 : 1\n"
     ]
    }
   ],
   "source": [
    "display_table(android_clean, 5)"
   ]
  },
  {
   "cell_type": "code",
   "execution_count": 27,
   "metadata": {
    "collapsed": false
   },
   "outputs": [
    {
     "name": "stdout",
     "output_type": "stream",
     "text": [
      "VIDEO_PLAYERS 24121489.079754602\n",
      "HOUSE_AND_HOME 1331540.5616438356\n",
      "MAPS_AND_NAVIGATION 3900634.7286821706\n",
      "ART_AND_DESIGN 1887285.0\n",
      "FOOD_AND_DRINK 1891060.2767857143\n",
      "SHOPPING 6966908.880597015\n",
      "WEATHER 4570892.658227848\n",
      "ENTERTAINMENT 11375402.298850575\n",
      "SOCIAL 22961790.384937238\n",
      "PARENTING 525351.8333333334\n",
      "MEDICAL 96944.49873417722\n",
      "TRAVEL_AND_LOCAL 13218662.767123288\n",
      "PRODUCTIVITY 15530942.008042896\n",
      "BEAUTY 513151.88679245283\n",
      "EVENTS 249580.640625\n",
      "DATING 828971.2176470588\n",
      "BUSINESS 1663758.627684964\n",
      "NEWS_AND_MAGAZINES 9472807.04\n",
      "FAMILY 3345018.516684607\n",
      "AUTO_AND_VEHICLES 632501.3214285715\n",
      "HEALTH_AND_FITNESS 3972300.388888889\n",
      "LIFESTYLE 1369954.7774725275\n",
      "EDUCATION 1782566.0377358492\n",
      "LIBRARIES_AND_DEMO 630903.6904761905\n",
      "TOOLS 9785955.211352658\n",
      "PHOTOGRAPHY 16636241.267857144\n",
      "SPORTS 3373767.6861538463\n",
      "GAME 14256217.600635594\n",
      "PERSONALIZATION 4086652.4853333333\n",
      "COMICS 817657.2727272727\n",
      "COMMUNICATION 35153714.17515924\n",
      "BOOKS_AND_REFERENCE 7641777.871559633\n",
      "FINANCE 1319851.4028985507\n"
     ]
    }
   ],
   "source": [
    "# 1, 10\n",
    "android_category_freq = freq_table(android_clean, 1)\n",
    "\n",
    "android_install_counts = {}\n",
    "\n",
    "for category in android_category_freq:\n",
    "    total = 0\n",
    "    len_category = 0\n",
    "    \n",
    "    for app in android_clean:\n",
    "        category_app = app[1]\n",
    "        if category == category_app:\n",
    "            installs = app[5].replace(',', '')\n",
    "            installs = installs.replace('+', '')\n",
    "            total += float(installs)\n",
    "            len_category += 1\n",
    "    \n",
    "    android_install_counts[category] = total / len_category\n",
    "    \n",
    "    print(category + \" \" + str(total / len_category))"
   ]
  },
  {
   "cell_type": "code",
   "execution_count": 28,
   "metadata": {
    "collapsed": false
   },
   "outputs": [
    {
     "name": "stdout",
     "output_type": "stream",
     "text": [
      "COMMUNICATION : 35153714.17515924\n",
      "VIDEO_PLAYERS : 24121489.079754602\n",
      "SOCIAL : 22961790.384937238\n",
      "PHOTOGRAPHY : 16636241.267857144\n",
      "PRODUCTIVITY : 15530942.008042896\n",
      "GAME : 14256217.600635594\n",
      "TRAVEL_AND_LOCAL : 13218662.767123288\n",
      "ENTERTAINMENT : 11375402.298850575\n",
      "TOOLS : 9785955.211352658\n",
      "NEWS_AND_MAGAZINES : 9472807.04\n",
      "BOOKS_AND_REFERENCE : 7641777.871559633\n",
      "SHOPPING : 6966908.880597015\n",
      "WEATHER : 4570892.658227848\n",
      "PERSONALIZATION : 4086652.4853333333\n",
      "HEALTH_AND_FITNESS : 3972300.388888889\n",
      "MAPS_AND_NAVIGATION : 3900634.7286821706\n",
      "SPORTS : 3373767.6861538463\n",
      "FAMILY : 3345018.516684607\n",
      "FOOD_AND_DRINK : 1891060.2767857143\n",
      "ART_AND_DESIGN : 1887285.0\n",
      "EDUCATION : 1782566.0377358492\n",
      "BUSINESS : 1663758.627684964\n",
      "LIFESTYLE : 1369954.7774725275\n",
      "HOUSE_AND_HOME : 1331540.5616438356\n",
      "FINANCE : 1319851.4028985507\n",
      "DATING : 828971.2176470588\n",
      "COMICS : 817657.2727272727\n",
      "AUTO_AND_VEHICLES : 632501.3214285715\n",
      "LIBRARIES_AND_DEMO : 630903.6904761905\n",
      "PARENTING : 525351.8333333334\n",
      "BEAUTY : 513151.88679245283\n",
      "EVENTS : 249580.640625\n",
      "MEDICAL : 96944.49873417722\n"
     ]
    }
   ],
   "source": [
    "table = android_install_counts\n",
    "table_display = []\n",
    "for key in table:\n",
    "    key_val_as_tuple = (table[key], key)\n",
    "    table_display.append(key_val_as_tuple)\n",
    "\n",
    "table_sorted = sorted(table_display, reverse = True)\n",
    "for entry in table_sorted:\n",
    "    print(entry[1], ':', entry[0])"
   ]
  },
  {
   "cell_type": "markdown",
   "metadata": {},
   "source": [
    "## Android R"
   ]
  }
 ],
 "metadata": {
  "kernelspec": {
   "display_name": "Python 3",
   "language": "python",
   "name": "python3"
  },
  "language_info": {
   "codemirror_mode": {
    "name": "ipython",
    "version": 3
   },
   "file_extension": ".py",
   "mimetype": "text/x-python",
   "name": "python",
   "nbconvert_exporter": "python",
   "pygments_lexer": "ipython3",
   "version": "3.4.3"
  }
 },
 "nbformat": 4,
 "nbformat_minor": 2
}
